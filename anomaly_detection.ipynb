{
  "nbformat": 4,
  "nbformat_minor": 0,
  "metadata": {
    "colab": {
      "provenance": []
    },
    "kernelspec": {
      "name": "python3",
      "display_name": "Python 3"
    },
    "language_info": {
      "name": "python"
    }
  },
  "cells": [
    {
      "cell_type": "markdown",
      "source": [
        "# Anomaly Detection Using a Variational AutoEncoder"
      ],
      "metadata": {
        "id": "7c7CcpDExFRn"
      }
    },
    {
      "cell_type": "code",
      "execution_count": 1,
      "metadata": {
        "id": "ETbIumZfts7n"
      },
      "outputs": [],
      "source": [
        "import numpy as np\n",
        "import tensorflow as tf\n",
        "from tensorflow import keras\n",
        "from sklearn.model_selection import train_test_split"
      ]
    },
    {
      "cell_type": "code",
      "source": [
        "np.random.seed(42)\n",
        "tf.random.set_seed(42)"
      ],
      "metadata": {
        "id": "V18eLKqBt7my"
      },
      "execution_count": 2,
      "outputs": []
    },
    {
      "cell_type": "code",
      "source": [
        "normal_data = np.random.normal(loc = 0, scale = 1, size = (5000, 10))\n",
        "anomalies = np.random.uniform(low = -5, high = 5, size = (100, 10))\n",
        "data = np.vstack((normal_data, anomalies))"
      ],
      "metadata": {
        "id": "taJEQ4L7uYgm"
      },
      "execution_count": 3,
      "outputs": []
    },
    {
      "cell_type": "code",
      "source": [
        "# labels (0 for normal, 1 for anomalies)\n",
        "labels = np.zeros(len(data))\n",
        "labels[len(normal_data):] = 1\n",
        "\n",
        "X_train, X_test, y_train, y_test = train_test_split(data, labels,\n",
        "                                                    test_size = 0.2,\n",
        "                                                    random_state = 42)"
      ],
      "metadata": {
        "id": "hkPwJTm1ulUa"
      },
      "execution_count": 5,
      "outputs": []
    },
    {
      "cell_type": "code",
      "source": [
        "# autoencoder anomaly detection model\n",
        "input_dim = X_train.shape[1]\n",
        "\n",
        "model = keras.Sequential([\n",
        "    keras.layers.Input(shape=(input_dim,)),\n",
        "    keras.layers.Dense(128, activation = 'relu'),\n",
        "    keras.layers.Dense(128, activation = 'relu'),\n",
        "    keras.layers.Dense(128, activation = 'relu'),\n",
        "    keras.layers.Dense(128, activation = 'relu'),\n",
        "    keras.layers.Dense(128, activation = 'relu'),\n",
        "    keras.layers.Dense(128, activation = 'relu'),\n",
        "    keras.layers.Dense(input_dim, activation = 'sigmoid')])\n",
        "\n",
        "model.compile(optimizer = 'adam', loss = 'mean_squared_error')"
      ],
      "metadata": {
        "id": "x06aUzE2uuCL"
      },
      "execution_count": 7,
      "outputs": []
    },
    {
      "cell_type": "code",
      "source": [
        "model.summary()"
      ],
      "metadata": {
        "colab": {
          "base_uri": "https://localhost:8080/"
        },
        "id": "mHt513FkvaDc",
        "outputId": "cbcc19dd-c00a-4798-a54a-20910d9d73b9"
      },
      "execution_count": 8,
      "outputs": [
        {
          "output_type": "stream",
          "name": "stdout",
          "text": [
            "Model: \"sequential_1\"\n",
            "_________________________________________________________________\n",
            " Layer (type)                Output Shape              Param #   \n",
            "=================================================================\n",
            " dense_7 (Dense)             (None, 128)               1408      \n",
            "                                                                 \n",
            " dense_8 (Dense)             (None, 128)               16512     \n",
            "                                                                 \n",
            " dense_9 (Dense)             (None, 128)               16512     \n",
            "                                                                 \n",
            " dense_10 (Dense)            (None, 128)               16512     \n",
            "                                                                 \n",
            " dense_11 (Dense)            (None, 128)               16512     \n",
            "                                                                 \n",
            " dense_12 (Dense)            (None, 128)               16512     \n",
            "                                                                 \n",
            " dense_13 (Dense)            (None, 10)                1290      \n",
            "                                                                 \n",
            "=================================================================\n",
            "Total params: 85258 (333.04 KB)\n",
            "Trainable params: 85258 (333.04 KB)\n",
            "Non-trainable params: 0 (0.00 Byte)\n",
            "_________________________________________________________________\n"
          ]
        }
      ]
    },
    {
      "cell_type": "code",
      "source": [
        "model.fit(X_train, X_train, epochs = 20, batch_size = 16,\n",
        "          validation_data = (X_test, X_test))\n",
        "\n",
        "reconstructed_data = model.predict(X_test)\n",
        "reconstruction_errors = np.mean(np.square(X_test - reconstructed_data),\n",
        "                                axis = 1)\n",
        "\n",
        "ANOMALY_DETECTION_THRESHOLD = 99\n",
        "threshold = np.percentile(reconstruction_errors, ANOMALY_DETECTION_THRESHOLD)\n",
        "y_pred = (reconstruction_errors > threshold).astype(int)"
      ],
      "metadata": {
        "colab": {
          "base_uri": "https://localhost:8080/"
        },
        "id": "zF5q9CUevKEp",
        "outputId": "95d5926d-4639-407a-f281-b46c166fac1a"
      },
      "execution_count": 11,
      "outputs": [
        {
          "output_type": "stream",
          "name": "stdout",
          "text": [
            "Epoch 1/20\n",
            "255/255 [==============================] - 1s 3ms/step - loss: 0.6893 - val_loss: 0.7254\n",
            "Epoch 2/20\n",
            "255/255 [==============================] - 1s 3ms/step - loss: 0.6890 - val_loss: 0.7245\n",
            "Epoch 3/20\n",
            "255/255 [==============================] - 1s 3ms/step - loss: 0.6894 - val_loss: 0.7265\n",
            "Epoch 4/20\n",
            "255/255 [==============================] - 1s 3ms/step - loss: 0.6906 - val_loss: 0.7267\n",
            "Epoch 5/20\n",
            "255/255 [==============================] - 1s 3ms/step - loss: 0.6897 - val_loss: 0.7269\n",
            "Epoch 6/20\n",
            "255/255 [==============================] - 1s 3ms/step - loss: 0.6892 - val_loss: 0.7244\n",
            "Epoch 7/20\n",
            "255/255 [==============================] - 1s 4ms/step - loss: 0.6891 - val_loss: 0.7244\n",
            "Epoch 8/20\n",
            "255/255 [==============================] - 1s 5ms/step - loss: 0.6897 - val_loss: 0.7250\n",
            "Epoch 9/20\n",
            "255/255 [==============================] - 2s 8ms/step - loss: 0.6891 - val_loss: 0.7257\n",
            "Epoch 10/20\n",
            "255/255 [==============================] - 1s 5ms/step - loss: 0.6889 - val_loss: 0.7260\n",
            "Epoch 11/20\n",
            "255/255 [==============================] - 1s 5ms/step - loss: 0.6892 - val_loss: 0.7245\n",
            "Epoch 12/20\n",
            "255/255 [==============================] - 2s 8ms/step - loss: 0.6883 - val_loss: 0.7241\n",
            "Epoch 13/20\n",
            "255/255 [==============================] - 2s 9ms/step - loss: 0.6880 - val_loss: 0.7242\n",
            "Epoch 14/20\n",
            "255/255 [==============================] - 2s 7ms/step - loss: 0.6883 - val_loss: 0.7244\n",
            "Epoch 15/20\n",
            "255/255 [==============================] - 2s 7ms/step - loss: 0.6888 - val_loss: 0.7250\n",
            "Epoch 16/20\n",
            "255/255 [==============================] - 2s 9ms/step - loss: 0.6883 - val_loss: 0.7250\n",
            "Epoch 17/20\n",
            "255/255 [==============================] - 4s 17ms/step - loss: 0.6888 - val_loss: 0.7243\n",
            "Epoch 18/20\n",
            "255/255 [==============================] - 2s 6ms/step - loss: 0.6886 - val_loss: 0.7252\n",
            "Epoch 19/20\n",
            "255/255 [==============================] - 2s 7ms/step - loss: 0.6879 - val_loss: 0.7245\n",
            "Epoch 20/20\n",
            "255/255 [==============================] - 2s 8ms/step - loss: 0.6880 - val_loss: 0.7237\n",
            "32/32 [==============================] - 0s 5ms/step\n"
          ]
        }
      ]
    },
    {
      "cell_type": "code",
      "source": [
        "from sklearn.metrics import accuracy_score, precision_score, recall_score\n",
        "\n",
        "accuracy = accuracy_score(y_test, y_pred)\n",
        "precision = precision_score(y_test, y_pred)\n",
        "recall = recall_score(y_test, y_pred)\n",
        "print(\"Accuracy:\", accuracy)\n",
        "print(\"Precision:\", precision)\n",
        "print(\"Recall:\", recall)"
      ],
      "metadata": {
        "colab": {
          "base_uri": "https://localhost:8080/"
        },
        "id": "RxKF543_wsPJ",
        "outputId": "92e5bc6f-b880-4772-e330-00eb3c27d81c"
      },
      "execution_count": 12,
      "outputs": [
        {
          "output_type": "stream",
          "name": "stdout",
          "text": [
            "Accuracy: 0.9882352941176471\n",
            "Precision: 1.0\n",
            "Recall: 0.4782608695652174\n"
          ]
        }
      ]
    }
  ]
}